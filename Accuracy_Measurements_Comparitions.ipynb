{
  "nbformat": 4,
  "nbformat_minor": 0,
  "metadata": {
    "colab": {
      "provenance": []
    },
    "kernelspec": {
      "name": "python3",
      "display_name": "Python 3"
    },
    "language_info": {
      "name": "python"
    }
  },
  "cells": [
    {
      "cell_type": "code",
      "source": [
        "!pip install numpy as np\n",
        "!pip install scipy\n",
        "!pip install scikit-learn\n",
        "!pip install matplotlib\n",
        "!pip install pandas as pd"
      ],
      "metadata": {
        "colab": {
          "base_uri": "https://localhost:8080/"
        },
        "id": "u2UH8-mAYmNV",
        "outputId": "f5cf3d86-b23f-4a93-b247-06a89d2bc315"
      },
      "execution_count": null,
      "outputs": [
        {
          "output_type": "stream",
          "name": "stdout",
          "text": [
            "Requirement already satisfied: numpy in /usr/local/lib/python3.10/dist-packages (1.23.5)\n",
            "\u001b[31mERROR: Could not find a version that satisfies the requirement as (from versions: none)\u001b[0m\u001b[31m\n",
            "\u001b[0m\u001b[31mERROR: No matching distribution found for as\u001b[0m\u001b[31m\n",
            "\u001b[0mRequirement already satisfied: scipy in /usr/local/lib/python3.10/dist-packages (1.11.2)\n",
            "Requirement already satisfied: numpy<1.28.0,>=1.21.6 in /usr/local/lib/python3.10/dist-packages (from scipy) (1.23.5)\n",
            "Requirement already satisfied: scikit-learn in /usr/local/lib/python3.10/dist-packages (1.2.2)\n",
            "Requirement already satisfied: numpy>=1.17.3 in /usr/local/lib/python3.10/dist-packages (from scikit-learn) (1.23.5)\n",
            "Requirement already satisfied: scipy>=1.3.2 in /usr/local/lib/python3.10/dist-packages (from scikit-learn) (1.11.2)\n",
            "Requirement already satisfied: joblib>=1.1.1 in /usr/local/lib/python3.10/dist-packages (from scikit-learn) (1.3.2)\n",
            "Requirement already satisfied: threadpoolctl>=2.0.0 in /usr/local/lib/python3.10/dist-packages (from scikit-learn) (3.2.0)\n",
            "Requirement already satisfied: matplotlib in /usr/local/lib/python3.10/dist-packages (3.7.1)\n",
            "Requirement already satisfied: contourpy>=1.0.1 in /usr/local/lib/python3.10/dist-packages (from matplotlib) (1.1.0)\n",
            "Requirement already satisfied: cycler>=0.10 in /usr/local/lib/python3.10/dist-packages (from matplotlib) (0.11.0)\n",
            "Requirement already satisfied: fonttools>=4.22.0 in /usr/local/lib/python3.10/dist-packages (from matplotlib) (4.42.1)\n",
            "Requirement already satisfied: kiwisolver>=1.0.1 in /usr/local/lib/python3.10/dist-packages (from matplotlib) (1.4.5)\n",
            "Requirement already satisfied: numpy>=1.20 in /usr/local/lib/python3.10/dist-packages (from matplotlib) (1.23.5)\n",
            "Requirement already satisfied: packaging>=20.0 in /usr/local/lib/python3.10/dist-packages (from matplotlib) (23.1)\n",
            "Requirement already satisfied: pillow>=6.2.0 in /usr/local/lib/python3.10/dist-packages (from matplotlib) (9.4.0)\n",
            "Requirement already satisfied: pyparsing>=2.3.1 in /usr/local/lib/python3.10/dist-packages (from matplotlib) (3.1.1)\n",
            "Requirement already satisfied: python-dateutil>=2.7 in /usr/local/lib/python3.10/dist-packages (from matplotlib) (2.8.2)\n",
            "Requirement already satisfied: six>=1.5 in /usr/local/lib/python3.10/dist-packages (from python-dateutil>=2.7->matplotlib) (1.16.0)\n",
            "Requirement already satisfied: pandas in /usr/local/lib/python3.10/dist-packages (1.5.3)\n",
            "\u001b[31mERROR: Could not find a version that satisfies the requirement as (from versions: none)\u001b[0m\u001b[31m\n",
            "\u001b[0m\u001b[31mERROR: No matching distribution found for as\u001b[0m\u001b[31m\n",
            "\u001b[0m"
          ]
        }
      ]
    },
    {
      "cell_type": "code",
      "execution_count": null,
      "metadata": {
        "id": "7GB6Bf0jYgBs"
      },
      "outputs": [],
      "source": [
        "import pandas as pd\n",
        "import numpy as np\n",
        "from sklearn.metrics import accuracy_score\n",
        "import matplotlib.pyplot as plt\n",
        "from sklearn.model_selection import train_test_split\n",
        "import random\n",
        "from sklearn.metrics import mean_squared_error, r2_score\n",
        "from sklearn.tree import DecisionTreeRegressor\n",
        "from sklearn.ensemble import RandomForestRegressor"
      ]
    },
    {
      "cell_type": "code",
      "source": [
        "# Connect the Colab notebook to Google Drive, where all my files are kept\n",
        "from google.colab import drive\n",
        "drive.mount('/content/drive')"
      ],
      "metadata": {
        "colab": {
          "base_uri": "https://localhost:8080/"
        },
        "id": "7Bw4BhnBYpfl",
        "outputId": "0a27c33f-ed50-4fcb-dc1d-e408eb5f72f0"
      },
      "execution_count": null,
      "outputs": [
        {
          "output_type": "stream",
          "name": "stdout",
          "text": [
            "Mounted at /content/drive\n"
          ]
        }
      ]
    },
    {
      "cell_type": "code",
      "source": [
        "abalone_ds = pd.read_csv('/content/abalone.csv')"
      ],
      "metadata": {
        "id": "fwC0Dc8JZQLU"
      },
      "execution_count": null,
      "outputs": []
    },
    {
      "cell_type": "code",
      "source": [
        "X = abalone_ds.drop(columns=['15'] )\n",
        "y = abalone_ds['15']"
      ],
      "metadata": {
        "id": "oTl4A3qlZXIH"
      },
      "execution_count": null,
      "outputs": []
    },
    {
      "cell_type": "code",
      "source": [
        "# Initialize empty lists and dictionaries to store results\n",
        "null_y_train_average = []\n",
        "null_y_test_average = []\n",
        "\n",
        "train_mse_list_ols = []\n",
        "test_mse_list_ols = []\n",
        "train_r2_list_ols = []\n",
        "test_r2_list_ols = []\n",
        "\n",
        "train_mse_list_regressor = []\n",
        "test_mse_list_regressor = []\n",
        "train_r2_list_regressor = []\n",
        "test_r2_list_regressor = []\n",
        "\n",
        "lambda_reg = 0.0001\n",
        "\n",
        "# Initialize dictionaries to store results for decision tree regressor and random forest\n",
        "decision_regressor_train_mse_list = {1: [], 2:[], 3:[], 4:[], 5:[], 6:[], 7:[]}\n",
        "decision_regressor_test_mse_list = {1: [], 2:[], 3:[], 4:[], 5:[], 6:[], 7:[]}\n",
        "decision_regressor_train_r2_list = {1: [], 2:[], 3:[], 4:[], 5:[], 6:[], 7:[]}\n",
        "decision_regressor_test_r2_list = {1: [], 2:[], 3:[], 4:[], 5:[], 6:[], 7:[]}\n",
        "decision_regressor_depth_list  = []\n",
        "\n",
        "random_forest_mse_train = {10: [], 30: [], 100: [], 300: []}\n",
        "random_forest_mse_test = {10: [], 30: [], 100: [], 300: []}\n",
        "random_forest_r2_train = {10: [], 30: [], 100: [], 300: []}\n",
        "random_forest_r2_test = {10: [], 30: [], 100: [], 300: []}\n",
        "\n",
        "# Loop through the data 20 times\n",
        "for i in range(20):\n",
        "    # Initialize lists to store results for each random forest iteration\n",
        "    forest_regressor_train_mse_list = []\n",
        "    forest_regressor_test_mse_list = []\n",
        "    forest_regressor_train_r2_list = []\n",
        "    forest_regressor_test_r2_list = []\n",
        "\n",
        "    number_of_trees = [10, 30, 100, 300]\n",
        "\n",
        "    # Split the data into training and testing sets\n",
        "    X_train, X_test, y_train, y_test = train_test_split(X, y, test_size=0.15, random_state=random.randint(1,999))\n",
        "\n",
        "    # Calculate the average of the training labels\n",
        "    y_average = np.mean(y_train)\n",
        "\n",
        "    # Create null model predictions\n",
        "    null_train_preds = np.full(y_train.shape, y_average)\n",
        "    null_test_preds = np.full(y_test.shape, y_average)\n",
        "\n",
        "    # Append null model average predictions to lists\n",
        "    null_y_train_average.append(y_average * y_train.shape[0])\n",
        "    null_y_test_average.append(y_average * y_test.shape[0])\n",
        "\n",
        "    # Perform Ordinary Least Squares (OLS) regression\n",
        "    X_train_const_ols = np.column_stack([np.ones(X_train.shape[0]), X_train])\n",
        "    X_test_const_ols = np.column_stack([np.ones(X_test.shape[0]), X_test])\n",
        "    I = np.eye(X_train_const_ols.shape[1])\n",
        "    I[0, 0] = 0\n",
        "    theta_ols = np.linalg.inv(X_train_const_ols.T.dot(X_train_const_ols) + lambda_reg * I).dot(X_train_const_ols.T).dot(y_train)\n",
        "\n",
        "    # Calculate OLS predictions and metrics\n",
        "    train_pred_ols = X_train_const_ols.dot(theta_ols)\n",
        "    test_pred_ols = X_test_const_ols.dot(theta_ols)\n",
        "\n",
        "    train_mse_list_ols.append(mean_squared_error(y_train, train_pred_ols))\n",
        "    test_mse_list_ols.append(mean_squared_error(y_test, test_pred_ols))\n",
        "    train_r2_list_ols.append(r2_score(y_train, train_pred_ols))\n",
        "    test_r2_list_ols.append(r2_score(y_test, test_pred_ols))\n",
        "\n",
        "    # Loop through different numbers of trees for Random Forest\n",
        "    for tree_number in number_of_trees:\n",
        "        model = RandomForestRegressor(n_estimators=tree_number, random_state=i)\n",
        "        model.fit(X_train, y_train)\n",
        "        y_train_predictions = model.predict(X_train)\n",
        "        y_test_predictions = model.predict(X_test)\n",
        "        mse_train = mean_squared_error(y_train, y_train_predictions)\n",
        "        mse_test = mean_squared_error(y_test, y_test_predictions)\n",
        "        r2_train = r2_score(y_train, y_train_predictions)\n",
        "        r2_test = r2_score(y_test, y_test_predictions)\n",
        "\n",
        "        # Append results to dictionaries for Random Forest\n",
        "        random_forest_mse_train[tree_number].append(mse_train)\n",
        "        random_forest_mse_test[tree_number].append(mse_test)\n",
        "        random_forest_r2_train[tree_number].append(r2_train)\n",
        "        random_forest_r2_test[tree_number].append(r2_test)\n",
        "\n",
        "    # Loop through different tree depths for Decision Tree Regressor\n",
        "    for tree_depth in range(1, 8):\n",
        "        tree_reg = DecisionTreeRegressor(max_depth=tree_depth)\n",
        "        tree_reg.fit(X_train, y_train)\n",
        "        train_pred_tree = tree_reg.predict(X_train)\n",
        "        test_pred_tree = tree_reg.predict(X_test)\n",
        "\n",
        "        # Append results to lists and dictionaries for Decision Tree Regressor\n",
        "        decision_regressor_depth_list.append(tree_depth)\n",
        "        decision_regressor_train_mse_list[tree_depth].append(mean_squared_error(y_train, train_pred_tree))\n",
        "        decision_regressor_test_mse_list[tree_depth].append(mean_squared_error(y_test, test_pred_tree))\n",
        "        decision_regressor_train_r2_list[tree_depth].append(r2_score(y_train, train_pred_tree))\n",
        "        decision_regressor_test_r2_list[tree_depth].append(r2_score(y_test, test_pred_tree))\n",
        "\n",
        "# Calculate average metrics for Decision Tree Regressor at each tree depth\n",
        "train_mse_means = []\n",
        "test_mse_means = []\n",
        "train_r2_means = []\n",
        "test_r2_means = []\n",
        "\n",
        "for tree_depth in range(1, 8):\n",
        "    train_mse_mean = np.mean(decision_regressor_train_mse_list[tree_depth])\n",
        "    test_mse_mean = np.mean(decision_regressor_test_mse_list[tree_depth])\n",
        "    train_r2_mean = np.mean(decision_regressor_train_r2_list[tree_depth])\n",
        "    test_r2_mean = np.mean(decision_regressor_test_r2_list[tree_depth])\n",
        "\n",
        "    # Append the means to the respective lists\n",
        "    train_mse_means.append(train_mse_mean)\n",
        "    test_mse_means.append(test_mse_mean)\n",
        "    train_r2_means.append(train_r2_mean)\n",
        "    test_r2_means.append(test_r2_mean)"
      ],
      "metadata": {
        "id": "yOM9eXCoZkZU"
      },
      "execution_count": null,
      "outputs": []
    },
    {
      "cell_type": "code",
      "source": [
        "null_values_train = []\n",
        "null_values_test = []\n",
        "y_train_bar = np.mean(y_train)\n",
        "for i in range(20):\n",
        "  X_train, X_test, y_train, y_test = train_test_split(X, y, test_size=0.15, random_state=random.randint(1,999))\n",
        "  y_train_pred = np.full(shape=y_train.shape, fill_value=y_train_bar)\n",
        "  y_test_pred = np.full(shape=y_test.shape, fill_value=y_train_bar)\n",
        "  train_mse = mean_squared_error(y_train, y_train_pred)\n",
        "  test_mse = mean_squared_error(y_test, y_test_pred)\n",
        "  null_values_train.append(train_mse)\n",
        "  null_values_test.append(test_mse)\n",
        "\n",
        "print(f\"NULL MODEL TRAINING MSE AVERAGE:{np.mean(null_values_train)}\")\n",
        "print(f\"NULL MODEL TESTING MSE AVERAGE:{np.mean(null_values_test)}\")\n"
      ],
      "metadata": {
        "colab": {
          "base_uri": "https://localhost:8080/"
        },
        "id": "v9ZFHAz1W8-A",
        "outputId": "ad67bb28-6cea-4c3b-9467-41cd962bde9e"
      },
      "execution_count": null,
      "outputs": [
        {
          "output_type": "stream",
          "name": "stdout",
          "text": [
            "NULL MODEL TRAINING MSE AVERAGE:10.378040842050204\n",
            "NULL MODEL TESTING MSE AVERAGE:10.451942539341282\n"
          ]
        }
      ]
    },
    {
      "cell_type": "code",
      "source": [
        "\n",
        "ols_mse_mean = sum(train_mse_list_ols)/len(train_mse_list_ols)\n",
        "ols_r2_mean = sum(train_r2_list_ols)/len(train_r2_list_ols)\n",
        "\n",
        "ols_mse_mean_test = sum(test_mse_list_ols)/len(test_mse_list_ols)\n",
        "ols_r2_mean_test = sum(train_r2_list_ols)/len(train_r2_list_ols)\n",
        "\n",
        "print(f\"OLS TRAINING MSE AVERAGE: {ols_mse_mean}\")\n",
        "print(f\"OLS TEST MSE AVERAGE: {ols_mse_mean_test}\")\n",
        "print(f\"OLS TRAINING R2 AVERAGE: {ols_r2_mean}\")\n",
        "print(f\"OLS TEST R2 AVERAGE: {ols_r2_mean_test}\")\n",
        "\n",
        "\n"
      ],
      "metadata": {
        "colab": {
          "base_uri": "https://localhost:8080/"
        },
        "id": "MIXUikSiSl_Z",
        "outputId": "c05a16ba-74aa-4f06-fbe4-43862252c927"
      },
      "execution_count": null,
      "outputs": [
        {
          "output_type": "stream",
          "name": "stdout",
          "text": [
            "OLS TRAINING MSE AVERAGE: 4.875176068515533\n",
            "OLS TEST MSE AVERAGE: 5.088469592570585\n",
            "OLS TRAINING R2 AVERAGE: 0.5302926926120348\n",
            "OLS TEST R2 AVERAGE: 0.5302926926120348\n"
          ]
        }
      ]
    },
    {
      "cell_type": "code",
      "source": [
        "from sklearn.tree import DecisionTreeRegressor\n",
        "from sklearn.metrics import mean_squared_error, r2_score\n",
        "import numpy as np\n",
        "import matplotlib.pyplot as plt\n",
        "from sklearn.model_selection import train_test_split\n",
        "\n",
        "# Initialize dictionaries to store results for decision tree regressor\n",
        "depths = 7  # Number of tree depths\n",
        "decision_regressor_train_mse_list = {i: [] for i in range(1, depths + 1)}\n",
        "decision_regressor_test_mse_list = {i: [] for i in range(1, depths + 1)}\n",
        "decision_regressor_train_r2_list = {i: [] for i in range(1, depths + 1)}\n",
        "decision_regressor_test_r2_list = {i: [] for i in range(1, depths + 1)}\n",
        "\n",
        "# Loop through data 20 times\n",
        "for i in range(20):\n",
        "    # Split the data into training and testing sets\n",
        "    X_train, X_test, y_train, y_test = train_test_split(X, y, test_size=0.15, random_state=random.randint(1, 999))\n",
        "\n",
        "    # Loop through different tree depths for Decision Tree Regressor\n",
        "    for tree_depth in range(1, depths + 1):\n",
        "        tree_reg = DecisionTreeRegressor(max_depth=tree_depth)\n",
        "        tree_reg.fit(X_train, y_train)\n",
        "        train_pred_tree = tree_reg.predict(X_train)\n",
        "        test_pred_tree = tree_reg.predict(X_test)\n",
        "\n",
        "        # Append results to lists and dictionaries for Decision Tree Regressor\n",
        "        decision_regressor_train_mse_list[tree_depth].append(mean_squared_error(y_train, train_pred_tree))\n",
        "        decision_regressor_test_mse_list[tree_depth].append(mean_squared_error(y_test, test_pred_tree))\n",
        "        decision_regressor_train_r2_list[tree_depth].append(r2_score(y_train, train_pred_tree))\n",
        "        decision_regressor_test_r2_list[tree_depth].append(r2_score(y_test, test_pred_tree))\n",
        "\n",
        "# Calculate means\n",
        "train_mse_means = [np.mean(decision_regressor_train_mse_list[i]) for i in range(1, depths + 1)]\n",
        "test_mse_means = [np.mean(decision_regressor_test_mse_list[i]) for i in range(1, depths + 1)]\n",
        "train_r2_means = [np.mean(decision_regressor_train_r2_list[i]) for i in range(1, depths + 1)]\n",
        "test_r2_means = [np.mean(decision_regressor_test_r2_list[i]) for i in range(1, depths + 1)]\n",
        "\n",
        "# Create plots to visualize results\n",
        "plt.figure(figsize=(12, 6))\n",
        "\n",
        "# First subplot for MSE values\n",
        "plt.subplot(1, 2, 1)\n",
        "plt.plot(range(1, depths + 1), train_mse_means, label='Train MSE')\n",
        "plt.plot(range(1, depths + 1), test_mse_means, label='Test MSE')\n",
        "plt.axhline(np.mean(null_values_train), color='red', linestyle='--', label='Null Model Train MSE')\n",
        "plt.axhline(np.mean(null_values_test), color='blue', linestyle='--', label='Null Model Test MSE')\n",
        "plt.ylabel('MSE')\n",
        "plt.title('Average Training and Test MSE vs Tree Depth')\n",
        "plt.legend(frameon=True, edgecolor='black')\n",
        "\n",
        "plt.subplot(1, 2, 2)\n",
        "plt.plot(range(1, depths + 1), train_r2_means, label='Train R2')\n",
        "plt.plot(range(1, depths + 1), test_r2_means, label='Test R2')\n",
        "plt.xlabel('Tree Depth')\n",
        "plt.ylabel('R2')\n",
        "plt.title('Average Training and Test R2 vs Tree Depth')\n",
        "plt.legend(frameon=True, edgecolor='black')\n",
        "plt.show()\n"
      ],
      "metadata": {
        "colab": {
          "base_uri": "https://localhost:8080/",
          "height": 564
        },
        "id": "kYDOc87aZTVR",
        "outputId": "ad54cccc-e0de-4986-9c47-479cc1362246"
      },
      "execution_count": null,
      "outputs": [
        {
          "output_type": "display_data",
          "data": {
            "text/plain": [
              "<Figure size 1200x600 with 2 Axes>"
            ],
            "image/png": "[encoded data removed]"
          },
          "metadata": {}
        }
      ]
    },
    {
      "cell_type": "code",
      "source": [
        "from sklearn.ensemble import RandomForestRegressor\n",
        "from sklearn.metrics import mean_squared_error, r2_score\n",
        "import numpy as np\n",
        "from sklearn.model_selection import train_test_split\n",
        "\n",
        "# Initialize dictionaries to store results for random forest\n",
        "random_forest_mse_train = {10: [], 30: [], 100: [], 300: []}\n",
        "random_forest_mse_test = {10: [], 30: [], 100: [], 300: []}\n",
        "random_forest_r2_train = {10: [], 30: [], 100: [], 300: []}\n",
        "random_forest_r2_test = {10: [], 30: [], 100: [], 300: []}\n",
        "\n",
        "# Loop through the data 20 times\n",
        "for i in range(20):\n",
        "    number_of_trees = [10, 30, 100, 300]\n",
        "\n",
        "    # Split the data into training and testing sets\n",
        "    X_train, X_test, y_train, y_test = train_test_split(X, y, test_size=0.15, random_state=np.random.randint(1, 999))\n",
        "\n",
        "    # Loop through different numbers of trees for Random Forest\n",
        "    for tree_number in number_of_trees:\n",
        "        model = RandomForestRegressor(n_estimators=tree_number, random_state=i)\n",
        "        model.fit(X_train, y_train)\n",
        "        y_train_predictions = model.predict(X_train)\n",
        "        y_test_predictions = model.predict(X_test)\n",
        "        mse_train = mean_squared_error(y_train, y_train_predictions)\n",
        "        mse_test = mean_squared_error(y_test, y_test_predictions)\n",
        "        r2_train = r2_score(y_train, y_train_predictions)\n",
        "        r2_test = r2_score(y_test, y_test_predictions)\n",
        "\n",
        "        # Append results to dictionaries for Random Forest\n",
        "        random_forest_mse_train[tree_number].append(mse_train)\n",
        "        random_forest_mse_test[tree_number].append(mse_test)\n",
        "        random_forest_r2_train[tree_number].append(r2_train)\n",
        "        random_forest_r2_test[tree_number].append(r2_test)\n",
        "\n",
        "# Calculate the overall mean R2 and MSE for each number of trees\n",
        "overall_mean_r2_train = {k: np.mean(v) for k, v in random_forest_r2_train.items()}\n",
        "overall_mean_r2_test = {k: np.mean(v) for k, v in random_forest_r2_test.items()}\n",
        "overall_mean_mse_train = {k: np.mean(v) for k, v in random_forest_mse_train.items()}\n",
        "overall_mean_mse_test = {k: np.mean(v) for k, v in random_forest_mse_test.items()}\n",
        "\n",
        "# Print the overall mean results\n",
        "for trees in number_of_trees:\n",
        "    print(f\"Number of Trees: {trees}\")\n",
        "    print(f\"Overall Mean Training R2: {overall_mean_r2_train[trees]:.4f}\")\n",
        "    print(f\"Overall Mean Test R2: {overall_mean_r2_test[trees]:.4f}\")\n",
        "    print(f\"Overall Mean Training MSE: {overall_mean_mse_train[trees]:.4f}\")\n",
        "    print(f\"Overall Mean Test MSE: {overall_mean_mse_test[trees]:.4f}\")\n",
        "    print()\n"
      ],
      "metadata": {
        "colab": {
          "base_uri": "https://localhost:8080/"
        },
        "id": "41bcspcPcE2S",
        "outputId": "6bb1bf93-9ff0-44e1-d665-454f900a0bd7"
      },
      "execution_count": null,
      "outputs": [
        {
          "output_type": "stream",
          "name": "stdout",
          "text": [
            "Number of Trees: 10\n",
            "Overall Mean Training R2: 0.9108\n",
            "Overall Mean Test R2: 0.5078\n",
            "Overall Mean Training MSE: 0.9228\n",
            "Overall Mean Test MSE: 5.2053\n",
            "\n",
            "Number of Trees: 30\n",
            "Overall Mean Training R2: 0.9285\n",
            "Overall Mean Test R2: 0.5356\n",
            "Overall Mean Training MSE: 0.7395\n",
            "Overall Mean Test MSE: 4.9139\n",
            "\n",
            "Number of Trees: 100\n",
            "Overall Mean Training R2: 0.9350\n",
            "Overall Mean Test R2: 0.5450\n",
            "Overall Mean Training MSE: 0.6729\n",
            "Overall Mean Test MSE: 4.8136\n",
            "\n",
            "Number of Trees: 300\n",
            "Overall Mean Training R2: 0.9367\n",
            "Overall Mean Test R2: 0.5472\n",
            "Overall Mean Training MSE: 0.6547\n",
            "Overall Mean Test MSE: 4.7898\n",
            "\n"
          ]
        }
      ]
    },
    {
      "cell_type": "code",
      "source": [
        "total_overall_mean_r2_train = np.mean(list(overall_mean_r2_train.values()))\n",
        "total_overall_mean_r2_test = np.mean(list(overall_mean_r2_test.values()))\n",
        "total_overall_mean_mse_train = np.mean(list(overall_mean_mse_train.values()))\n",
        "total_overall_mean_mse_test = np.mean(list(overall_mean_mse_test.values()))\n",
        "\n",
        "print(f\"Total Overall Mean Training R2: {total_overall_mean_r2_train:.4f}\")\n",
        "print(f\"Total Overall Mean Test R2: {total_overall_mean_r2_test:.4f}\")\n",
        "print(f\"Total Overall Mean Training MSE: {total_overall_mean_mse_train:.4f}\")\n",
        "print(f\"Total Overall Mean Test MSE: {total_overall_mean_mse_test:.4f}\")\n"
      ],
      "metadata": {
        "colab": {
          "base_uri": "https://localhost:8080/"
        },
        "id": "1c6-XPClefB3",
        "outputId": "0e3d2ad1-6d52-4fe2-83d9-ef25c5eb35e7"
      },
      "execution_count": null,
      "outputs": [
        {
          "output_type": "stream",
          "name": "stdout",
          "text": [
            "Total Overall Mean Training R2: 0.9278\n",
            "Total Overall Mean Test R2: 0.5339\n",
            "Total Overall Mean Training MSE: 0.7475\n",
            "Total Overall Mean Test MSE: 4.9307\n"
          ]
        }
      ]
    }
  ]
}